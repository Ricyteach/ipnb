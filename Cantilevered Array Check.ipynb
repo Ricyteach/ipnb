{
 "cells": [
  {
   "cell_type": "code",
   "execution_count": 1,
   "metadata": {
    "collapsed": true
   },
   "outputs": [],
   "source": [
    "import numpy as np\n",
    "np.set_printoptions(precision=2)"
   ]
  },
  {
   "cell_type": "markdown",
   "metadata": {},
   "source": [
    "# Input"
   ]
  },
  {
   "cell_type": "code",
   "execution_count": 2,
   "metadata": {
    "collapsed": true
   },
   "outputs": [],
   "source": [
    "L_panel = 77.01 #  inches\n",
    "W_panel = 39.02 #  inches\n",
    "D_panel = 57.32 #  lbs\n",
    "D_foot = 9 #  lbs\n",
    "D_block = 34 #  lbs\n",
    "μ = 0.49\n",
    "γ_D = 0.6 #  ASD Dead Load Factor\n",
    "γ_W = 0.6 #  ASD >2010 Wind Load Factor\n",
    "γ_Wu = 1.6 #  LRFD >2010 Wind Load Factor\n",
    "W_uplift_T = 962 #  lbf (total wind uplift for entire subarray)\n",
    "W_drag_T = 358 #  lbf (total wind drag for entire subarray)"
   ]
  },
  {
   "cell_type": "markdown",
   "metadata": {},
   "source": [
    "## PV Array Matrices"
   ]
  },
  {
   "cell_type": "code",
   "execution_count": 3,
   "metadata": {},
   "outputs": [
    {
     "data": {
      "text/plain": [
       "array([[1, 0, 1, 0, 1],\n",
       "       [1, 0, 1, 0, 1],\n",
       "       [1, 0, 1, 0, 1],\n",
       "       [1, 0, 1, 0, 1],\n",
       "       [1, 0, 1, 0, 1]])"
      ]
     },
     "execution_count": 3,
     "metadata": {},
     "output_type": "execute_result"
    }
   ],
   "source": [
    "Mat_feet =  np.array([\n",
    "                [1,0,1,0,1],\n",
    "                [1,0,1,0,1],\n",
    "                [1,0,1,0,1],\n",
    "                [1,0,1,0,1],\n",
    "                [1,0,1,0,1]\n",
    "            ])\n",
    "Mat_feet"
   ]
  },
  {
   "cell_type": "code",
   "execution_count": 4,
   "metadata": {},
   "outputs": [
    {
     "data": {
      "text/plain": [
       "array([[   0.  ,   38.51,   77.01,  115.52,  154.02],\n",
       "       [   0.  ,   38.51,   77.01,  115.52,  154.02],\n",
       "       [   0.  ,   38.51,   77.01,  115.52,  154.02],\n",
       "       [   0.  ,   38.51,   77.01,  115.52,  154.02],\n",
       "       [   0.  ,   38.51,   77.01,  115.52,  154.02]])"
      ]
     },
     "execution_count": 4,
     "metadata": {},
     "output_type": "execute_result"
    }
   ],
   "source": [
    "x_feet = np.array([[0.5*L_panel*j for j in range(len(row))] for row in Mat_feet])\n",
    "x_feet #  inches"
   ]
  },
  {
   "cell_type": "code",
   "execution_count": 5,
   "metadata": {},
   "outputs": [
    {
     "data": {
      "text/plain": [
       "array([[1, 1],\n",
       "       [1, 1],\n",
       "       [1, 1],\n",
       "       [1, 1]])"
      ]
     },
     "execution_count": 5,
     "metadata": {},
     "output_type": "execute_result"
    }
   ],
   "source": [
    "Mat_panels = np.array([[1 for j in range((len(row)-1)//2)] for row in Mat_feet[:-1]])\n",
    "Mat_panels"
   ]
  },
  {
   "cell_type": "code",
   "execution_count": 6,
   "metadata": {},
   "outputs": [
    {
     "data": {
      "text/plain": [
       "array([[  38.51,  115.52],\n",
       "       [  38.51,  115.52],\n",
       "       [  38.51,  115.52],\n",
       "       [  38.51,  115.52]])"
      ]
     },
     "execution_count": 6,
     "metadata": {},
     "output_type": "execute_result"
    }
   ],
   "source": [
    "x_panels = np.array([[L_panel*(j+1-0.5) for j in range(len(row))] for row in Mat_panels])\n",
    "x_panels #  inches"
   ]
  },
  {
   "cell_type": "code",
   "execution_count": 7,
   "metadata": {},
   "outputs": [
    {
     "data": {
      "text/plain": [
       "array([[2, 0, 2, 0, 2],\n",
       "       [2, 0, 2, 0, 2],\n",
       "       [2, 0, 2, 0, 2],\n",
       "       [2, 0, 2, 0, 2],\n",
       "       [2, 0, 2, 0, 2]])"
      ]
     },
     "execution_count": 7,
     "metadata": {},
     "output_type": "execute_result"
    }
   ],
   "source": [
    "N_block =  2*Mat_feet\n",
    "N_block"
   ]
  },
  {
   "cell_type": "markdown",
   "metadata": {},
   "source": [
    "## Dead Load Calculations"
   ]
  },
  {
   "cell_type": "code",
   "execution_count": 8,
   "metadata": {},
   "outputs": [
    {
     "data": {
      "text/plain": [
       "array([[68,  0, 68,  0, 68],\n",
       "       [68,  0, 68,  0, 68],\n",
       "       [68,  0, 68,  0, 68],\n",
       "       [68,  0, 68,  0, 68],\n",
       "       [68,  0, 68,  0, 68]])"
      ]
     },
     "execution_count": 8,
     "metadata": {},
     "output_type": "execute_result"
    }
   ],
   "source": [
    "D_blocks = D_block*N_block\n",
    "D_blocks"
   ]
  },
  {
   "cell_type": "code",
   "execution_count": 9,
   "metadata": {
    "collapsed": true
   },
   "outputs": [],
   "source": [
    "def trib_area(i, j, Mat_feet):\n",
    "    '''Calculate panel tributary area for a foot a location i,j\n",
    "    in a foot matrix'''\n",
    "    if Mat_feet[i,j] == 0:\n",
    "        return 0 #  No foot at location\n",
    "    if Mat_feet[i][j] not in (0, 1):\n",
    "        raise ValueError('Invalid feet matrix') #  max 1 foot per location\n",
    "    rowtrib = 1 if i in range(Mat_feet.shape[0])[1:-1] else 0.5\n",
    "    if j == 0:\n",
    "        return {0: rowtrib*0.5, 1: rowtrib*0.25}[Mat_feet[i][j+1]]\n",
    "    if j == Mat_feet.shape[1]-1:\n",
    "        return {0: rowtrib*0.5, 1: rowtrib*0.25}[Mat_feet[i][j-1]]\n",
    "    result = {0: rowtrib*0.5, 1: rowtrib*0.25}[Mat_feet[i][j+1]]\n",
    "    result += {0: rowtrib*0.5, 1: rowtrib*0.25}[Mat_feet[i][j-1]]\n",
    "    return result"
   ]
  },
  {
   "cell_type": "code",
   "execution_count": 10,
   "metadata": {
    "scrolled": true
   },
   "outputs": [
    {
     "data": {
      "text/plain": [
       "array([[ 0.25,  0.  ,  0.5 ,  0.  ,  0.25],\n",
       "       [ 0.5 ,  0.  ,  1.  ,  0.  ,  0.5 ],\n",
       "       [ 0.5 ,  0.  ,  1.  ,  0.  ,  0.5 ],\n",
       "       [ 0.5 ,  0.  ,  1.  ,  0.  ,  0.5 ],\n",
       "       [ 0.25,  0.  ,  0.5 ,  0.  ,  0.25]])"
      ]
     },
     "execution_count": 10,
     "metadata": {},
     "output_type": "execute_result"
    }
   ],
   "source": [
    "A_trib = np.array([[trib_area(i,j,Mat_feet) for j in range(len(row))] for i,row in enumerate(Mat_feet)])\n",
    "A_trib"
   ]
  },
  {
   "cell_type": "code",
   "execution_count": 11,
   "metadata": {},
   "outputs": [
    {
     "data": {
      "text/plain": [
       "8.0"
      ]
     },
     "execution_count": 11,
     "metadata": {},
     "output_type": "execute_result"
    }
   ],
   "source": [
    "N_panels = A_trib.sum()\n",
    "assert N_panels == Mat_panels.sum() #  Error if area calculation incorrect\n",
    "N_panels"
   ]
  },
  {
   "cell_type": "code",
   "execution_count": 12,
   "metadata": {},
   "outputs": [
    {
     "data": {
      "text/plain": [
       "array([[ 14.33,   0.  ,  28.66,   0.  ,  14.33],\n",
       "       [ 28.66,   0.  ,  57.32,   0.  ,  28.66],\n",
       "       [ 28.66,   0.  ,  57.32,   0.  ,  28.66],\n",
       "       [ 28.66,   0.  ,  57.32,   0.  ,  28.66],\n",
       "       [ 14.33,   0.  ,  28.66,   0.  ,  14.33]])"
      ]
     },
     "execution_count": 12,
     "metadata": {},
     "output_type": "execute_result"
    }
   ],
   "source": [
    "D_panels = A_trib*D_panel\n",
    "D_panels #  lbs"
   ]
  },
  {
   "cell_type": "code",
   "execution_count": 13,
   "metadata": {},
   "outputs": [
    {
     "data": {
      "text/plain": [
       "array([[  91.33,    0.  ,  105.66,    0.  ,   91.33],\n",
       "       [ 105.66,    0.  ,  134.32,    0.  ,  105.66],\n",
       "       [ 105.66,    0.  ,  134.32,    0.  ,  105.66],\n",
       "       [ 105.66,    0.  ,  134.32,    0.  ,  105.66],\n",
       "       [  91.33,    0.  ,  105.66,    0.  ,   91.33]])"
      ]
     },
     "execution_count": 13,
     "metadata": {},
     "output_type": "execute_result"
    }
   ],
   "source": [
    "D_feet = D_foot*Mat_feet + D_panels + D_blocks\n",
    "D_feet"
   ]
  },
  {
   "cell_type": "markdown",
   "metadata": {},
   "source": [
    "## Moment Calculations"
   ]
  },
  {
   "cell_type": "markdown",
   "metadata": {},
   "source": [
    "#### Moment Due to Dead Load"
   ]
  },
  {
   "cell_type": "code",
   "execution_count": 14,
   "metadata": {},
   "outputs": [
    {
     "data": {
      "text/plain": [
       "array([[     0.  ,      0.  ,   8136.88,      0.  ,  14066.65],\n",
       "       [     0.  ,      0.  ,  10343.98,      0.  ,  16273.75],\n",
       "       [     0.  ,      0.  ,  10343.98,      0.  ,  16273.75],\n",
       "       [     0.  ,      0.  ,  10343.98,      0.  ,  16273.75],\n",
       "       [     0.  ,      0.  ,   8136.88,      0.  ,  14066.65]])"
      ]
     },
     "execution_count": 14,
     "metadata": {},
     "output_type": "execute_result"
    }
   ],
   "source": [
    "M_zD = D_feet*x_feet #  in-lbs\n",
    "M_zD"
   ]
  },
  {
   "cell_type": "code",
   "execution_count": 15,
   "metadata": {},
   "outputs": [
    {
     "data": {
      "text/plain": [
       "124260.2556"
      ]
     },
     "execution_count": 15,
     "metadata": {},
     "output_type": "execute_result"
    }
   ],
   "source": [
    "M_zD_T = M_zD.sum() #  in-lbs\n",
    "M_zD_T"
   ]
  },
  {
   "cell_type": "code",
   "execution_count": 16,
   "metadata": {},
   "outputs": [
    {
     "data": {
      "text/plain": [
       "array([[ 0.  ,  0.  ,  0.07,  0.  ,  0.11],\n",
       "       [ 0.  ,  0.  ,  0.08,  0.  ,  0.13],\n",
       "       [ 0.  ,  0.  ,  0.08,  0.  ,  0.13],\n",
       "       [ 0.  ,  0.  ,  0.08,  0.  ,  0.13],\n",
       "       [ 0.  ,  0.  ,  0.07,  0.  ,  0.11]])"
      ]
     },
     "execution_count": 16,
     "metadata": {},
     "output_type": "execute_result"
    }
   ],
   "source": [
    "r_zD = M_zD/M_zD_T\n",
    "r_zD"
   ]
  },
  {
   "cell_type": "code",
   "execution_count": 17,
   "metadata": {},
   "outputs": [
    {
     "data": {
      "text/plain": [
       "1.0"
      ]
     },
     "execution_count": 17,
     "metadata": {},
     "output_type": "execute_result"
    }
   ],
   "source": [
    "r_zD.sum() #  correct if 1"
   ]
  },
  {
   "cell_type": "markdown",
   "metadata": {},
   "source": [
    "#### Moment Due to Wind Uplift"
   ]
  },
  {
   "cell_type": "code",
   "execution_count": 18,
   "metadata": {},
   "outputs": [
    {
     "data": {
      "text/plain": [
       "120.25"
      ]
     },
     "execution_count": 18,
     "metadata": {},
     "output_type": "execute_result"
    }
   ],
   "source": [
    "W_uplift = W_uplift_T/N_panels #  lbs\n",
    "W_uplift"
   ]
  },
  {
   "cell_type": "code",
   "execution_count": 19,
   "metadata": {},
   "outputs": [
    {
     "data": {
      "text/plain": [
       "array([[  4630.23,  13890.68],\n",
       "       [  4630.23,  13890.68],\n",
       "       [  4630.23,  13890.68],\n",
       "       [  4630.23,  13890.68]])"
      ]
     },
     "execution_count": 19,
     "metadata": {},
     "output_type": "execute_result"
    }
   ],
   "source": [
    "M_zW = W_uplift*x_panels #  in-lbs\n",
    "M_zW"
   ]
  },
  {
   "cell_type": "code",
   "execution_count": 20,
   "metadata": {},
   "outputs": [
    {
     "data": {
      "text/plain": [
       "74083.62000000001"
      ]
     },
     "execution_count": 20,
     "metadata": {},
     "output_type": "execute_result"
    }
   ],
   "source": [
    "M_zW_T = M_zW.sum() #  in-lbs\n",
    "M_zW_T"
   ]
  },
  {
   "cell_type": "code",
   "execution_count": 21,
   "metadata": {},
   "outputs": [
    {
     "data": {
      "text/plain": [
       "array([[    0.  ,     0.  ,  4851.18,     0.  ,  8386.5 ],\n",
       "       [    0.  ,     0.  ,  6167.05,     0.  ,  9702.37],\n",
       "       [    0.  ,     0.  ,  6167.05,     0.  ,  9702.37],\n",
       "       [    0.  ,     0.  ,  6167.05,     0.  ,  9702.37],\n",
       "       [    0.  ,     0.  ,  4851.18,     0.  ,  8386.5 ]])"
      ]
     },
     "execution_count": 21,
     "metadata": {},
     "output_type": "execute_result"
    }
   ],
   "source": [
    "M_z_distrib = M_zW_T*r_zD\n",
    "M_z_distrib"
   ]
  },
  {
   "cell_type": "code",
   "execution_count": 22,
   "metadata": {},
   "outputs": [
    {
     "data": {
      "text/plain": [
       "array([[    0.  ,     0.  ,  1971.42,     0.  ,  3408.09],\n",
       "       [    0.  ,     0.  ,  2506.16,     0.  ,  3942.83],\n",
       "       [    0.  ,     0.  ,  2506.16,     0.  ,  3942.83],\n",
       "       [    0.  ,     0.  ,  2506.16,     0.  ,  3942.83],\n",
       "       [    0.  ,     0.  ,  1971.42,     0.  ,  3408.09]])"
      ]
     },
     "execution_count": 22,
     "metadata": {},
     "output_type": "execute_result"
    }
   ],
   "source": [
    "M_z_net = γ_D*M_zD-γ_W*M_z_distrib\n",
    "M_z_net"
   ]
  },
  {
   "cell_type": "markdown",
   "metadata": {},
   "source": [
    "## Horizontal Friction Force and Moment"
   ]
  },
  {
   "cell_type": "code",
   "execution_count": 23,
   "metadata": {},
   "outputs": [
    {
     "data": {
      "text/plain": [
       "array([[  0.  ,   0.  ,  25.6 ,   0.  ,  22.13],\n",
       "       [  0.  ,   0.  ,  32.54,   0.  ,  25.6 ],\n",
       "       [  0.  ,   0.  ,  32.54,   0.  ,  25.6 ],\n",
       "       [  0.  ,   0.  ,  32.54,   0.  ,  25.6 ],\n",
       "       [  0.  ,   0.  ,  25.6 ,   0.  ,  22.13]])"
      ]
     },
     "execution_count": 23,
     "metadata": {},
     "output_type": "execute_result"
    }
   ],
   "source": [
    "F_z_net = np.array([[moment/x if x != 0 else 0 for x,moment in zip(xrows, Mrows)] for xrows, Mrows in zip(x_feet, M_z_net)])\n",
    "F_z_net"
   ]
  },
  {
   "cell_type": "code",
   "execution_count": 24,
   "metadata": {},
   "outputs": [
    {
     "data": {
      "text/plain": [
       "array([[  0.  ,   0.  ,  12.54,   0.  ,  10.84],\n",
       "       [  0.  ,   0.  ,  15.95,   0.  ,  12.54],\n",
       "       [  0.  ,   0.  ,  15.95,   0.  ,  12.54],\n",
       "       [  0.  ,   0.  ,  15.95,   0.  ,  12.54],\n",
       "       [  0.  ,   0.  ,  12.54,   0.  ,  10.84]])"
      ]
     },
     "execution_count": 24,
     "metadata": {},
     "output_type": "execute_result"
    }
   ],
   "source": [
    "F_res = μ*np.array([[F if F>0 else 0 for F in row] for row in F_z_net])\n",
    "F_res"
   ]
  },
  {
   "cell_type": "code",
   "execution_count": 25,
   "metadata": {
    "scrolled": true
   },
   "outputs": [
    {
     "data": {
      "text/plain": [
       "array([[    0.  ,     0.  ,   965.99,     0.  ,  1669.96],\n",
       "       [    0.  ,     0.  ,  1228.02,     0.  ,  1931.99],\n",
       "       [    0.  ,     0.  ,  1228.02,     0.  ,  1931.99],\n",
       "       [    0.  ,     0.  ,  1228.02,     0.  ,  1931.99],\n",
       "       [    0.  ,     0.  ,   965.99,     0.  ,  1669.96]])"
      ]
     },
     "execution_count": 25,
     "metadata": {},
     "output_type": "execute_result"
    }
   ],
   "source": [
    "M_res = F_res*x_feet\n",
    "M_res"
   ]
  },
  {
   "cell_type": "code",
   "execution_count": 26,
   "metadata": {},
   "outputs": [
    {
     "data": {
      "text/plain": [
       "14751.930866399996"
      ]
     },
     "execution_count": 26,
     "metadata": {},
     "output_type": "execute_result"
    }
   ],
   "source": [
    "M_res_T = M_res.sum()\n",
    "M_res_T"
   ]
  },
  {
   "cell_type": "markdown",
   "metadata": {},
   "source": [
    "## Wind Drag Force and Moment"
   ]
  },
  {
   "cell_type": "code",
   "execution_count": 27,
   "metadata": {},
   "outputs": [
    {
     "data": {
      "text/plain": [
       "44.75"
      ]
     },
     "execution_count": 27,
     "metadata": {},
     "output_type": "execute_result"
    }
   ],
   "source": [
    "W_drag = W_drag_T/N_panels #  lbs\n",
    "W_drag"
   ]
  },
  {
   "cell_type": "code",
   "execution_count": 28,
   "metadata": {},
   "outputs": [
    {
     "data": {
      "text/plain": [
       "array([[ 26.85,  26.85],\n",
       "       [ 26.85,  26.85],\n",
       "       [ 26.85,  26.85],\n",
       "       [ 26.85,  26.85]])"
      ]
     },
     "execution_count": 28,
     "metadata": {},
     "output_type": "execute_result"
    }
   ],
   "source": [
    "F_app = γ_W*W_drag*Mat_panels\n",
    "F_app"
   ]
  },
  {
   "cell_type": "code",
   "execution_count": 29,
   "metadata": {},
   "outputs": [
    {
     "data": {
      "text/plain": [
       "array([[ 1033.86,  3101.58],\n",
       "       [ 1033.86,  3101.58],\n",
       "       [ 1033.86,  3101.58],\n",
       "       [ 1033.86,  3101.58]])"
      ]
     },
     "execution_count": 29,
     "metadata": {},
     "output_type": "execute_result"
    }
   ],
   "source": [
    "M_app = F_app*x_panels\n",
    "M_app"
   ]
  },
  {
   "cell_type": "code",
   "execution_count": 30,
   "metadata": {},
   "outputs": [
    {
     "data": {
      "text/plain": [
       "16541.748"
      ]
     },
     "execution_count": 30,
     "metadata": {},
     "output_type": "execute_result"
    }
   ],
   "source": [
    "M_app_T = M_app.sum()\n",
    "M_app_T"
   ]
  },
  {
   "cell_type": "markdown",
   "metadata": {},
   "source": [
    "## Excess Moment"
   ]
  },
  {
   "cell_type": "code",
   "execution_count": 31,
   "metadata": {},
   "outputs": [
    {
     "data": {
      "text/plain": [
       "1789.8171336000032"
      ]
     },
     "execution_count": 31,
     "metadata": {},
     "output_type": "execute_result"
    }
   ],
   "source": [
    "M_excess = max(M_app_T - M_res_T, 0)\n",
    "M_excess"
   ]
  },
  {
   "cell_type": "markdown",
   "metadata": {},
   "source": [
    "## Clamp Forces"
   ]
  },
  {
   "cell_type": "code",
   "execution_count": 32,
   "metadata": {},
   "outputs": [
    {
     "data": {
      "text/plain": [
       "5"
      ]
     },
     "execution_count": 32,
     "metadata": {},
     "output_type": "execute_result"
    }
   ],
   "source": [
    "N_rows = Mat_feet.shape[0]\n",
    "N_rows"
   ]
  },
  {
   "cell_type": "code",
   "execution_count": 33,
   "metadata": {},
   "outputs": [
    {
     "data": {
      "text/plain": [
       "2"
      ]
     },
     "execution_count": 33,
     "metadata": {},
     "output_type": "execute_result"
    }
   ],
   "source": [
    "N_tension_clamp_rows = N_rows//2\n",
    "N_tension_clamp_rows"
   ]
  },
  {
   "cell_type": "code",
   "execution_count": 34,
   "metadata": {},
   "outputs": [
    {
     "data": {
      "text/plain": [
       "array([2, 1])"
      ]
     },
     "execution_count": 34,
     "metadata": {},
     "output_type": "execute_result"
    }
   ],
   "source": [
    "N_clamps = np.array([1 if i == N_tension_clamp_rows-1 else 2 for i in range(N_tension_clamp_rows)])\n",
    "N_clamps"
   ]
  },
  {
   "cell_type": "code",
   "execution_count": 35,
   "metadata": {},
   "outputs": [
    {
     "data": {
      "text/plain": [
       "array([ 1.,  2.])"
      ]
     },
     "execution_count": 35,
     "metadata": {},
     "output_type": "execute_result"
    }
   ],
   "source": [
    "CR_arm = np.array([i+0.5+N_rows/2-N_tension_clamp_rows for i in range(N_tension_clamp_rows)])\n",
    "CR_arm"
   ]
  },
  {
   "cell_type": "code",
   "execution_count": 36,
   "metadata": {},
   "outputs": [
    {
     "data": {
      "text/plain": [
       "1.0"
      ]
     },
     "execution_count": 36,
     "metadata": {},
     "output_type": "execute_result"
    }
   ],
   "source": [
    "CR_arm1 = CR_arm[0]\n",
    "CR_arm1"
   ]
  },
  {
   "cell_type": "code",
   "execution_count": 37,
   "metadata": {},
   "outputs": [
    {
     "data": {
      "text/plain": [
       "array([ 2.,  2.])"
      ]
     },
     "execution_count": 37,
     "metadata": {},
     "output_type": "execute_result"
    }
   ],
   "source": [
    "C_arm = N_clamps*CR_arm\n",
    "C_arm"
   ]
  },
  {
   "cell_type": "code",
   "execution_count": 38,
   "metadata": {},
   "outputs": [
    {
     "data": {
      "text/plain": [
       "4.0"
      ]
     },
     "execution_count": 38,
     "metadata": {},
     "output_type": "execute_result"
    }
   ],
   "source": [
    "N_arms = sum(arm/CR_arm1 for arm in C_arm)\n",
    "N_arms"
   ]
  },
  {
   "cell_type": "code",
   "execution_count": 39,
   "metadata": {},
   "outputs": [
    {
     "data": {
      "text/plain": [
       "11.467306084059476"
      ]
     },
     "execution_count": 39,
     "metadata": {},
     "output_type": "execute_result"
    }
   ],
   "source": [
    "F_couple = (1/N_arms)*M_excess/(CR_arm1*W_panel)\n",
    "F_couple"
   ]
  },
  {
   "cell_type": "code",
   "execution_count": 40,
   "metadata": {
    "collapsed": true
   },
   "outputs": [],
   "source": [
    "F_clamp = 110 #  lbs"
   ]
  },
  {
   "cell_type": "code",
   "execution_count": 41,
   "metadata": {},
   "outputs": [
    {
     "data": {
      "text/plain": [
       "18.347689734495162"
      ]
     },
     "execution_count": 41,
     "metadata": {},
     "output_type": "execute_result"
    }
   ],
   "source": [
    "γ_Wu*F_couple"
   ]
  },
  {
   "cell_type": "code",
   "execution_count": 42,
   "metadata": {},
   "outputs": [
    {
     "data": {
      "text/plain": [
       "True"
      ]
     },
     "execution_count": 42,
     "metadata": {},
     "output_type": "execute_result"
    }
   ],
   "source": [
    "F_clamp>γ_Wu*F_couple #  OK if True"
   ]
  },
  {
   "cell_type": "markdown",
   "metadata": {},
   "source": [
    "Required Ballast:"
   ]
  },
  {
   "cell_type": "code",
   "execution_count": 43,
   "metadata": {},
   "outputs": [
    {
     "data": {
      "text/plain": [
       "array([[2, 0, 2, 0, 2],\n",
       "       [2, 0, 2, 0, 2],\n",
       "       [2, 0, 2, 0, 2],\n",
       "       [2, 0, 2, 0, 2],\n",
       "       [2, 0, 2, 0, 2]])"
      ]
     },
     "execution_count": 43,
     "metadata": {},
     "output_type": "execute_result"
    }
   ],
   "source": [
    "N_block"
   ]
  }
 ],
 "metadata": {
  "kernelspec": {
   "display_name": "Python 3",
   "language": "python",
   "name": "python3"
  },
  "language_info": {
   "codemirror_mode": {
    "name": "ipython",
    "version": 3
   },
   "file_extension": ".py",
   "mimetype": "text/x-python",
   "name": "python",
   "nbconvert_exporter": "python",
   "pygments_lexer": "ipython3",
   "version": "3.6.1"
  }
 },
 "nbformat": 4,
 "nbformat_minor": 2
}
